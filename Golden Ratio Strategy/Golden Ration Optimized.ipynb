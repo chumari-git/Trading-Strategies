{
 "cells": [
  {
   "cell_type": "code",
   "execution_count": 1,
   "id": "f3e8d1ba-1b37-408e-a48a-979ecc75e5ab",
   "metadata": {},
   "outputs": [],
   "source": [
    "import pandas as pd \n",
    "import pandas_ta as ta \n",
    "import yfinance as yf \n",
    "import MetaTrader5 as mt5\n",
    "from datetime import datetime, timedelta\n",
    "import plotly.graph_objects as go\n",
    "import plotly.io as pio"
   ]
  },
  {
   "cell_type": "code",
   "execution_count": 51,
   "id": "60e07d17-6ced-4f80-aa76-ec99c98b34ac",
   "metadata": {},
   "outputs": [],
   "source": [
    "def chart(df):\n",
    "\n",
    "    fig = go.Figure(\n",
    "        data=[go.Candlestick(\n",
    "            x=df['date'],\n",
    "            open=df['open'],\n",
    "            high=df['high'],\n",
    "            low=df['low'],\n",
    "            close=df['close']\n",
    "        )]\n",
    "    )\n",
    "\n",
    "    fig.update_layout(\n",
    "        xaxis_rangeslider_visible = False\n",
    "    )\n",
    "    \n",
    "    pio.show(fig, renderer='browser') "
   ]
  },
  {
   "cell_type": "code",
   "execution_count": 52,
   "id": "77c8e343-d144-4756-9cdf-505939dccb16",
   "metadata": {},
   "outputs": [],
   "source": [
    "def cleaning(df):\n",
    "    df = df.copy()  # Make a copy to avoid modifying the original DataFrame\n",
    "    df.columns = [name[0].lower() for name in df.columns]  # Convert column names to lowercase\n",
    "    df.index = df.index.rename('date')  # Rename index to 'date'\n",
    "    df.index = pd.to_datetime(df.index).strftime('%Y-%m-%d %H:%M:%S')  # Format index as datetime string\n",
    "    df = df.reset_index(drop=False)\n",
    "    return df"
   ]
  },
  {
   "cell_type": "code",
   "execution_count": 64,
   "id": "577d6eaa-5c65-458e-a0be-bbfb1a81c0d6",
   "metadata": {},
   "outputs": [],
   "source": [
    "def d1_fibonacci(df):\n",
    "\n",
    "    df['date'] = pd.to_datetime(df['date']).dt.date\n",
    "    daily_df = df.groupby('date').agg({\n",
    "        'open': 'first',\n",
    "        'high': 'max',\n",
    "        'low': 'min',\n",
    "        'close': 'last',\n",
    "        'volume': 'sum'\n",
    "    })\n",
    "\n",
    "    daily_df['fib_61_8'] = daily_df['high'] - (daily_df['high'] - daily_df['low']) * 0.618\n",
    "    \n",
    "    daily_df = daily_df.reset_index()\n",
    "\n",
    "    df['fib_61_8'] = 0\n",
    "    df[['date','fib_61_8']].merge(daily_df[['date','fib_61_8']])\n",
    "\n",
    "    return daily_df, df"
   ]
  },
  {
   "cell_type": "code",
   "execution_count": 53,
   "id": "07e90827-c333-43a7-bf3f-5d7896463cdb",
   "metadata": {},
   "outputs": [
    {
     "name": "stderr",
     "output_type": "stream",
     "text": [
      "[*********************100%***********************]  1 of 1 completed\n"
     ]
    }
   ],
   "source": [
    "gold_15 = cleaning(yf.download('GC=F',period='8d', interval='15m'))"
   ]
  },
  {
   "cell_type": "code",
   "execution_count": 54,
   "id": "5a38fd1c-4514-4145-84bd-837639b8175c",
   "metadata": {},
   "outputs": [
    {
     "data": {
      "text/html": [
       "<div>\n",
       "<style scoped>\n",
       "    .dataframe tbody tr th:only-of-type {\n",
       "        vertical-align: middle;\n",
       "    }\n",
       "\n",
       "    .dataframe tbody tr th {\n",
       "        vertical-align: top;\n",
       "    }\n",
       "\n",
       "    .dataframe thead th {\n",
       "        text-align: right;\n",
       "    }\n",
       "</style>\n",
       "<table border=\"1\" class=\"dataframe\">\n",
       "  <thead>\n",
       "    <tr style=\"text-align: right;\">\n",
       "      <th></th>\n",
       "      <th>date</th>\n",
       "      <th>close</th>\n",
       "      <th>high</th>\n",
       "      <th>low</th>\n",
       "      <th>open</th>\n",
       "      <th>volume</th>\n",
       "    </tr>\n",
       "  </thead>\n",
       "  <tbody>\n",
       "    <tr>\n",
       "      <th>0</th>\n",
       "      <td>2025-01-20 00:00:00</td>\n",
       "      <td>2747.199951</td>\n",
       "      <td>2748.000000</td>\n",
       "      <td>2746.699951</td>\n",
       "      <td>2747.100098</td>\n",
       "      <td>183</td>\n",
       "    </tr>\n",
       "    <tr>\n",
       "      <th>1</th>\n",
       "      <td>2025-01-20 00:15:00</td>\n",
       "      <td>2748.199951</td>\n",
       "      <td>2748.600098</td>\n",
       "      <td>2747.100098</td>\n",
       "      <td>2747.100098</td>\n",
       "      <td>313</td>\n",
       "    </tr>\n",
       "    <tr>\n",
       "      <th>2</th>\n",
       "      <td>2025-01-20 00:30:00</td>\n",
       "      <td>2749.000000</td>\n",
       "      <td>2749.199951</td>\n",
       "      <td>2746.899902</td>\n",
       "      <td>2748.100098</td>\n",
       "      <td>582</td>\n",
       "    </tr>\n",
       "  </tbody>\n",
       "</table>\n",
       "</div>"
      ],
      "text/plain": [
       "                  date        close         high          low         open  \\\n",
       "0  2025-01-20 00:00:00  2747.199951  2748.000000  2746.699951  2747.100098   \n",
       "1  2025-01-20 00:15:00  2748.199951  2748.600098  2747.100098  2747.100098   \n",
       "2  2025-01-20 00:30:00  2749.000000  2749.199951  2746.899902  2748.100098   \n",
       "\n",
       "   volume  \n",
       "0     183  \n",
       "1     313  \n",
       "2     582  "
      ]
     },
     "execution_count": 54,
     "metadata": {},
     "output_type": "execute_result"
    }
   ],
   "source": [
    "gold_15.head(3).loc[:]"
   ]
  },
  {
   "cell_type": "code",
   "execution_count": 68,
   "id": "035feb79-8984-4f58-813c-4ea8026f554f",
   "metadata": {},
   "outputs": [
    {
     "name": "stderr",
     "output_type": "stream",
     "text": [
      "C:\\Users\\USER\\AppData\\Local\\Temp\\ipykernel_3700\\233379322.py:17: UserWarning:\n",
      "\n",
      "You are merging on int and float columns where the float values are not equal to their int representation.\n",
      "\n"
     ]
    },
    {
     "data": {
      "text/plain": [
       "0      0\n",
       "1      0\n",
       "2      0\n",
       "3      0\n",
       "4      0\n",
       "      ..\n",
       "596    0\n",
       "597    0\n",
       "598    0\n",
       "599    0\n",
       "600    0\n",
       "Name: fib_61_8, Length: 601, dtype: int64"
      ]
     },
     "execution_count": 68,
     "metadata": {},
     "output_type": "execute_result"
    }
   ],
   "source": [
    "d1_fibonacci(gold_15)[1]['fib_61_8']"
   ]
  },
  {
   "cell_type": "code",
   "execution_count": 56,
   "id": "d531d5df-c2bf-4134-b2b4-4076279df577",
   "metadata": {},
   "outputs": [],
   "source": [
    "chart(gold_15)"
   ]
  },
  {
   "cell_type": "code",
   "execution_count": null,
   "id": "ed2ae17e-86cd-476f-86ae-30b2784ae066",
   "metadata": {},
   "outputs": [],
   "source": []
  }
 ],
 "metadata": {
  "kernelspec": {
   "display_name": "Python 3 (ipykernel)",
   "language": "python",
   "name": "python3"
  },
  "language_info": {
   "codemirror_mode": {
    "name": "ipython",
    "version": 3
   },
   "file_extension": ".py",
   "mimetype": "text/x-python",
   "name": "python",
   "nbconvert_exporter": "python",
   "pygments_lexer": "ipython3",
   "version": "3.11.1"
  }
 },
 "nbformat": 4,
 "nbformat_minor": 5
}
